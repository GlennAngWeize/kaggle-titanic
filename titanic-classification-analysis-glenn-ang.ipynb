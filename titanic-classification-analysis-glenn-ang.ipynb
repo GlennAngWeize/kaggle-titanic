{
 "cells": [
  {
   "cell_type": "code",
   "execution_count": 1,
   "id": "fe4548ff",
   "metadata": {
    "_cell_guid": "b1076dfc-b9ad-4769-8c92-a6c4dae69d19",
    "_uuid": "8f2839f25d086af736a60e9eeb907d3b93b6e0e5",
    "execution": {
     "iopub.execute_input": "2025-08-17T13:03:55.533470Z",
     "iopub.status.busy": "2025-08-17T13:03:55.532672Z",
     "iopub.status.idle": "2025-08-17T13:03:59.502240Z",
     "shell.execute_reply": "2025-08-17T13:03:59.501301Z"
    },
    "papermill": {
     "duration": 3.978014,
     "end_time": "2025-08-17T13:03:59.504037",
     "exception": false,
     "start_time": "2025-08-17T13:03:55.526023",
     "status": "completed"
    },
    "tags": []
   },
   "outputs": [],
   "source": [
    "import pandas as pd\n",
    "import numpy as np\n",
    "import matplotlib.pyplot as plt\n",
    "import seaborn as sns\n",
    "sns.set()\n",
    "\n",
    "raw_train_data=pd.read_csv('/kaggle/input/titanic/train.csv')\n",
    "raw_test_data=pd.read_csv('/kaggle/input/titanic/test.csv')\n",
    "raw_gender_data=pd.read_csv('/kaggle/input/titanic/gender_submission.csv')\n",
    "\n",
    "# Keep a raw copy of original data\n",
    "train_data=raw_train_data.copy()\n",
    "test_data=raw_test_data.copy()\n",
    "gender_data=raw_gender_data.copy()"
   ]
  },
  {
   "cell_type": "code",
   "execution_count": 2,
   "id": "4cf3327e",
   "metadata": {
    "execution": {
     "iopub.execute_input": "2025-08-17T13:03:59.513904Z",
     "iopub.status.busy": "2025-08-17T13:03:59.513588Z",
     "iopub.status.idle": "2025-08-17T13:03:59.547590Z",
     "shell.execute_reply": "2025-08-17T13:03:59.546441Z"
    },
    "papermill": {
     "duration": 0.040749,
     "end_time": "2025-08-17T13:03:59.549323",
     "exception": false,
     "start_time": "2025-08-17T13:03:59.508574",
     "status": "completed"
    },
    "tags": []
   },
   "outputs": [
    {
     "name": "stdout",
     "output_type": "stream",
     "text": [
      "<class 'pandas.core.frame.DataFrame'>\n",
      "RangeIndex: 891 entries, 0 to 890\n",
      "Data columns (total 12 columns):\n",
      " #   Column       Non-Null Count  Dtype  \n",
      "---  ------       --------------  -----  \n",
      " 0   PassengerId  891 non-null    int64  \n",
      " 1   Survived     891 non-null    int64  \n",
      " 2   Pclass       891 non-null    int64  \n",
      " 3   Name         891 non-null    object \n",
      " 4   Sex          891 non-null    object \n",
      " 5   Age          714 non-null    float64\n",
      " 6   SibSp        891 non-null    int64  \n",
      " 7   Parch        891 non-null    int64  \n",
      " 8   Ticket       891 non-null    object \n",
      " 9   Fare         891 non-null    float64\n",
      " 10  Cabin        204 non-null    object \n",
      " 11  Embarked     889 non-null    object \n",
      "dtypes: float64(2), int64(5), object(5)\n",
      "memory usage: 83.7+ KB\n"
     ]
    }
   ],
   "source": [
    "train_data.info()"
   ]
  },
  {
   "cell_type": "code",
   "execution_count": 3,
   "id": "23dc83d2",
   "metadata": {
    "execution": {
     "iopub.execute_input": "2025-08-17T13:03:59.559263Z",
     "iopub.status.busy": "2025-08-17T13:03:59.558936Z",
     "iopub.status.idle": "2025-08-17T13:03:59.569758Z",
     "shell.execute_reply": "2025-08-17T13:03:59.568833Z"
    },
    "papermill": {
     "duration": 0.017467,
     "end_time": "2025-08-17T13:03:59.571230",
     "exception": false,
     "start_time": "2025-08-17T13:03:59.553763",
     "status": "completed"
    },
    "tags": []
   },
   "outputs": [
    {
     "data": {
      "text/plain": [
       "Sex\n",
       "female    0.742038\n",
       "male      0.188908\n",
       "Name: Survived, dtype: float64"
      ]
     },
     "execution_count": 3,
     "metadata": {},
     "output_type": "execute_result"
    }
   ],
   "source": [
    "# Analysis on gender\n",
    "train_data.groupby(['Sex'])['Survived'].mean()"
   ]
  },
  {
   "cell_type": "code",
   "execution_count": 4,
   "id": "0f8e3dd9",
   "metadata": {
    "execution": {
     "iopub.execute_input": "2025-08-17T13:03:59.581298Z",
     "iopub.status.busy": "2025-08-17T13:03:59.580926Z",
     "iopub.status.idle": "2025-08-17T13:03:59.591580Z",
     "shell.execute_reply": "2025-08-17T13:03:59.590449Z"
    },
    "papermill": {
     "duration": 0.017564,
     "end_time": "2025-08-17T13:03:59.593296",
     "exception": false,
     "start_time": "2025-08-17T13:03:59.575732",
     "status": "completed"
    },
    "tags": []
   },
   "outputs": [
    {
     "name": "stderr",
     "output_type": "stream",
     "text": [
      "/tmp/ipykernel_13/2133183852.py:3: FutureWarning: A value is trying to be set on a copy of a DataFrame or Series through chained assignment using an inplace method.\n",
      "The behavior will change in pandas 3.0. This inplace method will never work because the intermediate object on which we are setting values always behaves as a copy.\n",
      "\n",
      "For example, when doing 'df[col].method(value, inplace=True)', try using 'df.method({col: value}, inplace=True)' or df[col] = df[col].method(value) instead, to perform the operation inplace on the original object.\n",
      "\n",
      "\n",
      "  train_data['Embarked'].fillna(train_data['Embarked'].mode(),inplace=True)\n"
     ]
    }
   ],
   "source": [
    "train_data.isnull().sum()\n",
    "\n",
    "train_data['Embarked'].fillna(train_data['Embarked'].mode(),inplace=True)\n",
    "\n",
    "train_data['Deck'] = train_data['Cabin'].str[0].fillna('U').astype('category')"
   ]
  },
  {
   "cell_type": "code",
   "execution_count": 5,
   "id": "efa058bb",
   "metadata": {
    "execution": {
     "iopub.execute_input": "2025-08-17T13:03:59.603229Z",
     "iopub.status.busy": "2025-08-17T13:03:59.602889Z",
     "iopub.status.idle": "2025-08-17T13:03:59.610864Z",
     "shell.execute_reply": "2025-08-17T13:03:59.609900Z"
    },
    "papermill": {
     "duration": 0.01473,
     "end_time": "2025-08-17T13:03:59.612520",
     "exception": false,
     "start_time": "2025-08-17T13:03:59.597790",
     "status": "completed"
    },
    "tags": []
   },
   "outputs": [
    {
     "data": {
      "text/plain": [
       "PassengerId      0\n",
       "Survived         0\n",
       "Pclass           0\n",
       "Name             0\n",
       "Sex              0\n",
       "Age            177\n",
       "SibSp            0\n",
       "Parch            0\n",
       "Ticket           0\n",
       "Fare             0\n",
       "Cabin          687\n",
       "Embarked         2\n",
       "Deck             0\n",
       "dtype: int64"
      ]
     },
     "execution_count": 5,
     "metadata": {},
     "output_type": "execute_result"
    }
   ],
   "source": [
    "train_data.isnull().sum()"
   ]
  },
  {
   "cell_type": "code",
   "execution_count": 6,
   "id": "8e4b922a",
   "metadata": {
    "execution": {
     "iopub.execute_input": "2025-08-17T13:03:59.622250Z",
     "iopub.status.busy": "2025-08-17T13:03:59.621952Z",
     "iopub.status.idle": "2025-08-17T13:03:59.631960Z",
     "shell.execute_reply": "2025-08-17T13:03:59.630972Z"
    },
    "papermill": {
     "duration": 0.016441,
     "end_time": "2025-08-17T13:03:59.633323",
     "exception": false,
     "start_time": "2025-08-17T13:03:59.616882",
     "status": "completed"
    },
    "tags": []
   },
   "outputs": [
    {
     "name": "stderr",
     "output_type": "stream",
     "text": [
      "/tmp/ipykernel_13/1304248048.py:3: FutureWarning: A value is trying to be set on a copy of a DataFrame or Series through chained assignment using an inplace method.\n",
      "The behavior will change in pandas 3.0. This inplace method will never work because the intermediate object on which we are setting values always behaves as a copy.\n",
      "\n",
      "For example, when doing 'df[col].method(value, inplace=True)', try using 'df.method({col: value}, inplace=True)' or df[col] = df[col].method(value) instead, to perform the operation inplace on the original object.\n",
      "\n",
      "\n",
      "  test_data['Embarked'].fillna(test_data['Embarked'].mode(),inplace=True)\n"
     ]
    }
   ],
   "source": [
    "test_data.isnull().sum()\n",
    "\n",
    "test_data['Embarked'].fillna(test_data['Embarked'].mode(),inplace=True)\n",
    "test_data['Deck'] = test_data['Cabin'].str[0].fillna('U').astype('category')"
   ]
  },
  {
   "cell_type": "code",
   "execution_count": 7,
   "id": "70585e54",
   "metadata": {
    "execution": {
     "iopub.execute_input": "2025-08-17T13:03:59.643453Z",
     "iopub.status.busy": "2025-08-17T13:03:59.643091Z",
     "iopub.status.idle": "2025-08-17T13:03:59.930242Z",
     "shell.execute_reply": "2025-08-17T13:03:59.929234Z"
    },
    "papermill": {
     "duration": 0.29413,
     "end_time": "2025-08-17T13:03:59.932012",
     "exception": false,
     "start_time": "2025-08-17T13:03:59.637882",
     "status": "completed"
    },
    "tags": []
   },
   "outputs": [
    {
     "data": {
      "image/png": "[encoded data removed]",
      "text/plain": [
       "<Figure size 640x480 with 1 Axes>"
      ]
     },
     "metadata": {},
     "output_type": "display_data"
    }
   ],
   "source": [
    "\n",
    "sns.countplot(x = 'Sex', hue = \"Survived\", data = train_data)\n",
    "plt.ylabel('Survival Count')\n",
    "# On first observation,females tends to have a survival rate than male\n",
    "\n",
    "# Since females have higher chance of survival, we will map females to 1 and males to 0\n",
    "\n",
    "Sex={'male':0,'female':1}\n",
    "train_data['Sex']=train_data['Sex'].map(Sex)\n",
    "test_data['Sex'] = test_data['Sex'].map({'male':0, 'female':1})"
   ]
  },
  {
   "cell_type": "code",
   "execution_count": 8,
   "id": "0a3398c0",
   "metadata": {
    "execution": {
     "iopub.execute_input": "2025-08-17T13:03:59.944144Z",
     "iopub.status.busy": "2025-08-17T13:03:59.943839Z",
     "iopub.status.idle": "2025-08-17T13:04:00.215617Z",
     "shell.execute_reply": "2025-08-17T13:04:00.214688Z"
    },
    "papermill": {
     "duration": 0.280018,
     "end_time": "2025-08-17T13:04:00.217050",
     "exception": false,
     "start_time": "2025-08-17T13:03:59.937032",
     "status": "completed"
    },
    "tags": []
   },
   "outputs": [
    {
     "data": {
      "text/plain": [
       "Text(0, 0.5, 'Survival Count')"
      ]
     },
     "execution_count": 8,
     "metadata": {},
     "output_type": "execute_result"
    },
    {
     "data": {
      "image/png": "[encoded data removed]",
      "text/plain": [
       "<Figure size 640x480 with 1 Axes>"
      ]
     },
     "metadata": {},
     "output_type": "display_data"
    }
   ],
   "source": [
    "sns.countplot(x = 'SibSp', hue = \"Survived\", data = train_data)\n",
    "plt.ylabel('Survival Count')"
   ]
  },
  {
   "cell_type": "code",
   "execution_count": 9,
   "id": "5d4dcc70",
   "metadata": {
    "execution": {
     "iopub.execute_input": "2025-08-17T13:04:00.229506Z",
     "iopub.status.busy": "2025-08-17T13:04:00.228639Z",
     "iopub.status.idle": "2025-08-17T13:04:00.485304Z",
     "shell.execute_reply": "2025-08-17T13:04:00.484306Z"
    },
    "papermill": {
     "duration": 0.264525,
     "end_time": "2025-08-17T13:04:00.487035",
     "exception": false,
     "start_time": "2025-08-17T13:04:00.222510",
     "status": "completed"
    },
    "tags": []
   },
   "outputs": [
    {
     "data": {
      "text/plain": [
       "Text(0, 0.5, 'Survival Count')"
      ]
     },
     "execution_count": 9,
     "metadata": {},
     "output_type": "execute_result"
    },
    {
     "data": {
      "image/png": "[encoded data removed]",
      "text/plain": [
       "<Figure size 640x480 with 1 Axes>"
      ]
     },
     "metadata": {},
     "output_type": "display_data"
    }
   ],
   "source": [
    "sns.countplot(x = 'Parch', hue = \"Survived\", data = train_data)\n",
    "plt.ylabel('Survival Count')\n"
   ]
  },
  {
   "cell_type": "code",
   "execution_count": 10,
   "id": "53b04477",
   "metadata": {
    "execution": {
     "iopub.execute_input": "2025-08-17T13:04:00.499965Z",
     "iopub.status.busy": "2025-08-17T13:04:00.499629Z",
     "iopub.status.idle": "2025-08-17T13:04:00.508628Z",
     "shell.execute_reply": "2025-08-17T13:04:00.507664Z"
    },
    "papermill": {
     "duration": 0.017356,
     "end_time": "2025-08-17T13:04:00.510246",
     "exception": false,
     "start_time": "2025-08-17T13:04:00.492890",
     "status": "completed"
    },
    "tags": []
   },
   "outputs": [],
   "source": [
    "#Enginner Family Size + Alone\n",
    "\n",
    "train_data['Family']=train_data['SibSp']+train_data['Parch']+1\n",
    "train_data['Alone']=(train_data['Family']==1).astype(int)\n",
    "\n",
    "test_data['Family']=test_data['SibSp']+test_data['Parch']+1\n",
    "test_data['Alone']=(test_data['Family']==1).astype(int)"
   ]
  },
  {
   "cell_type": "code",
   "execution_count": 11,
   "id": "73cb5992",
   "metadata": {
    "execution": {
     "iopub.execute_input": "2025-08-17T13:04:00.522959Z",
     "iopub.status.busy": "2025-08-17T13:04:00.522635Z",
     "iopub.status.idle": "2025-08-17T13:04:00.739054Z",
     "shell.execute_reply": "2025-08-17T13:04:00.738124Z"
    },
    "papermill": {
     "duration": 0.224796,
     "end_time": "2025-08-17T13:04:00.740768",
     "exception": false,
     "start_time": "2025-08-17T13:04:00.515972",
     "status": "completed"
    },
    "tags": []
   },
   "outputs": [
    {
     "data": {
      "text/plain": [
       "Text(0, 0.5, 'Survival Count')"
      ]
     },
     "execution_count": 11,
     "metadata": {},
     "output_type": "execute_result"
    },
    {
     "data": {
      "image/png": "[encoded data removed]",
      "text/plain": [
       "<Figure size 640x480 with 1 Axes>"
      ]
     },
     "metadata": {},
     "output_type": "display_data"
    }
   ],
   "source": [
    "sns.countplot(x = 'Embarked', hue = \"Survived\", data = train_data)\n",
    "plt.ylabel('Survival Count')"
   ]
  },
  {
   "cell_type": "code",
   "execution_count": 12,
   "id": "8f30356f",
   "metadata": {
    "execution": {
     "iopub.execute_input": "2025-08-17T13:04:00.754307Z",
     "iopub.status.busy": "2025-08-17T13:04:00.753977Z",
     "iopub.status.idle": "2025-08-17T13:04:00.967182Z",
     "shell.execute_reply": "2025-08-17T13:04:00.966259Z"
    },
    "papermill": {
     "duration": 0.22177,
     "end_time": "2025-08-17T13:04:00.968758",
     "exception": false,
     "start_time": "2025-08-17T13:04:00.746988",
     "status": "completed"
    },
    "tags": []
   },
   "outputs": [
    {
     "data": {
      "text/plain": [
       "Text(0, 0.5, 'Survival Count')"
      ]
     },
     "execution_count": 12,
     "metadata": {},
     "output_type": "execute_result"
    },
    {
     "data": {
      "image/png": "[encoded data removed]",
      "text/plain": [
       "<Figure size 640x480 with 1 Axes>"
      ]
     },
     "metadata": {},
     "output_type": "display_data"
    }
   ],
   "source": [
    "sns.countplot(x = 'Pclass', hue = \"Survived\", data = train_data)\n",
    "plt.ylabel('Survival Count')"
   ]
  },
  {
   "cell_type": "code",
   "execution_count": 13,
   "id": "27e5f3d3",
   "metadata": {
    "execution": {
     "iopub.execute_input": "2025-08-17T13:04:00.984245Z",
     "iopub.status.busy": "2025-08-17T13:04:00.983925Z",
     "iopub.status.idle": "2025-08-17T13:04:01.011691Z",
     "shell.execute_reply": "2025-08-17T13:04:01.010837Z"
    },
    "papermill": {
     "duration": 0.036879,
     "end_time": "2025-08-17T13:04:01.013310",
     "exception": false,
     "start_time": "2025-08-17T13:04:00.976431",
     "status": "completed"
    },
    "tags": []
   },
   "outputs": [],
   "source": [
    "train_data['Title'] = train_data['Name'].str.extract(' ([A-Za-z]+)\\.', expand=False)\n",
    "\n",
    "train_data['Title'] = train_data['Title'].replace(\n",
    "    ['Lady','Countess','Capt','Col','Don','Dr','Major','Rev','Jonkheer','Dona','Master','Sir','Mme'], 'Rare'\n",
    ")\n",
    "train_data['Title'] = train_data['Title'].replace(['Mlle','Ms','Mrs'], 'Miss')\n",
    "\n",
    "test_data['Title'] = test_data['Name'].str.extract(' ([A-Za-z]+)\\.', expand=False)\n",
    "\n",
    "test_data['Title'] = test_data['Title'].replace(\n",
    "    ['Lady','Countess','Capt','Col','Don','Dr','Major','Rev','Jonkheer','Dona','Master','Sir','Mme'], 'Rare'\n",
    ")\n",
    "test_data['Title'] = test_data['Title'].replace(['Mlle','Ms','Mrs'], 'Miss')\n",
    "\n",
    "\n",
    "\n",
    "\n",
    "train_data['Age'] = train_data.groupby(['Pclass','Title'])['Age'].transform(\n",
    "    lambda x: x.fillna(x.mean())\n",
    ")\n",
    "\n",
    "test_data['Age'] = test_data.groupby(['Pclass','Title'])['Age'].transform(\n",
    "    lambda x: x.fillna(x.mean())\n",
    ")"
   ]
  },
  {
   "cell_type": "code",
   "execution_count": 14,
   "id": "6f36ef35",
   "metadata": {
    "execution": {
     "iopub.execute_input": "2025-08-17T13:04:01.027945Z",
     "iopub.status.busy": "2025-08-17T13:04:01.027241Z",
     "iopub.status.idle": "2025-08-17T13:04:01.039928Z",
     "shell.execute_reply": "2025-08-17T13:04:01.038871Z"
    },
    "papermill": {
     "duration": 0.021253,
     "end_time": "2025-08-17T13:04:01.041169",
     "exception": false,
     "start_time": "2025-08-17T13:04:01.019916",
     "status": "completed"
    },
    "tags": []
   },
   "outputs": [
    {
     "name": "stdout",
     "output_type": "stream",
     "text": [
      "<class 'pandas.core.frame.DataFrame'>\n",
      "RangeIndex: 891 entries, 0 to 890\n",
      "Data columns (total 16 columns):\n",
      " #   Column       Non-Null Count  Dtype   \n",
      "---  ------       --------------  -----   \n",
      " 0   PassengerId  891 non-null    int64   \n",
      " 1   Survived     891 non-null    int64   \n",
      " 2   Pclass       891 non-null    int64   \n",
      " 3   Name         891 non-null    object  \n",
      " 4   Sex          891 non-null    int64   \n",
      " 5   Age          891 non-null    float64 \n",
      " 6   SibSp        891 non-null    int64   \n",
      " 7   Parch        891 non-null    int64   \n",
      " 8   Ticket       891 non-null    object  \n",
      " 9   Fare         891 non-null    float64 \n",
      " 10  Cabin        204 non-null    object  \n",
      " 11  Embarked     889 non-null    object  \n",
      " 12  Deck         891 non-null    category\n",
      " 13  Family       891 non-null    int64   \n",
      " 14  Alone        891 non-null    int64   \n",
      " 15  Title        891 non-null    object  \n",
      "dtypes: category(1), float64(2), int64(8), object(5)\n",
      "memory usage: 105.8+ KB\n"
     ]
    }
   ],
   "source": [
    "train_data.info()\n"
   ]
  },
  {
   "cell_type": "code",
   "execution_count": 15,
   "id": "983d4bc4",
   "metadata": {
    "execution": {
     "iopub.execute_input": "2025-08-17T13:04:01.055880Z",
     "iopub.status.busy": "2025-08-17T13:04:01.055256Z",
     "iopub.status.idle": "2025-08-17T13:04:01.067011Z",
     "shell.execute_reply": "2025-08-17T13:04:01.065876Z"
    },
    "papermill": {
     "duration": 0.020589,
     "end_time": "2025-08-17T13:04:01.068419",
     "exception": false,
     "start_time": "2025-08-17T13:04:01.047830",
     "status": "completed"
    },
    "tags": []
   },
   "outputs": [
    {
     "name": "stdout",
     "output_type": "stream",
     "text": [
      "<class 'pandas.core.frame.DataFrame'>\n",
      "RangeIndex: 418 entries, 0 to 417\n",
      "Data columns (total 15 columns):\n",
      " #   Column       Non-Null Count  Dtype   \n",
      "---  ------       --------------  -----   \n",
      " 0   PassengerId  418 non-null    int64   \n",
      " 1   Pclass       418 non-null    int64   \n",
      " 2   Name         418 non-null    object  \n",
      " 3   Sex          418 non-null    int64   \n",
      " 4   Age          418 non-null    float64 \n",
      " 5   SibSp        418 non-null    int64   \n",
      " 6   Parch        418 non-null    int64   \n",
      " 7   Ticket       418 non-null    object  \n",
      " 8   Fare         417 non-null    float64 \n",
      " 9   Cabin        91 non-null     object  \n",
      " 10  Embarked     418 non-null    object  \n",
      " 11  Deck         418 non-null    category\n",
      " 12  Family       418 non-null    int64   \n",
      " 13  Alone        418 non-null    int64   \n",
      " 14  Title        418 non-null    object  \n",
      "dtypes: category(1), float64(2), int64(7), object(5)\n",
      "memory usage: 46.6+ KB\n"
     ]
    }
   ],
   "source": [
    "test_data.info()"
   ]
  },
  {
   "cell_type": "code",
   "execution_count": 16,
   "id": "d7c7e796",
   "metadata": {
    "execution": {
     "iopub.execute_input": "2025-08-17T13:04:01.083345Z",
     "iopub.status.busy": "2025-08-17T13:04:01.082967Z",
     "iopub.status.idle": "2025-08-17T13:04:01.105450Z",
     "shell.execute_reply": "2025-08-17T13:04:01.104635Z"
    },
    "papermill": {
     "duration": 0.031769,
     "end_time": "2025-08-17T13:04:01.107077",
     "exception": false,
     "start_time": "2025-08-17T13:04:01.075308",
     "status": "completed"
    },
    "tags": []
   },
   "outputs": [],
   "source": [
    "drop_cols = ['PassengerId','Name','Ticket']\n",
    "X_train = train_data.drop(columns=drop_cols + ['Survived'])\n",
    "X_test = test_data.drop(columns=drop_cols)\n",
    "y_train = train_data['Survived']\n",
    "\n",
    "categorical_cols = ['Title','Embarked','Pclass','Cabin','Deck']\n",
    "X_train = pd.get_dummies(X_train, columns=categorical_cols, dummy_na=True, drop_first=True)\n",
    "X_test = pd.get_dummies(X_test, columns=categorical_cols, dummy_na=True, drop_first=True)"
   ]
  },
  {
   "cell_type": "code",
   "execution_count": 17,
   "id": "acbda8ea",
   "metadata": {
    "execution": {
     "iopub.execute_input": "2025-08-17T13:04:01.122003Z",
     "iopub.status.busy": "2025-08-17T13:04:01.121031Z",
     "iopub.status.idle": "2025-08-17T13:04:01.129130Z",
     "shell.execute_reply": "2025-08-17T13:04:01.128210Z"
    },
    "papermill": {
     "duration": 0.017072,
     "end_time": "2025-08-17T13:04:01.130754",
     "exception": false,
     "start_time": "2025-08-17T13:04:01.113682",
     "status": "completed"
    },
    "tags": []
   },
   "outputs": [],
   "source": [
    "X_train, X_test = X_train.align(X_test, join='left', axis=1, fill_value=0)"
   ]
  },
  {
   "cell_type": "code",
   "execution_count": 18,
   "id": "661d04d9",
   "metadata": {
    "execution": {
     "iopub.execute_input": "2025-08-17T13:04:01.145809Z",
     "iopub.status.busy": "2025-08-17T13:04:01.145480Z",
     "iopub.status.idle": "2025-08-17T13:04:45.955078Z",
     "shell.execute_reply": "2025-08-17T13:04:45.953526Z"
    },
    "papermill": {
     "duration": 44.81915,
     "end_time": "2025-08-17T13:04:45.956816",
     "exception": false,
     "start_time": "2025-08-17T13:04:01.137666",
     "status": "completed"
    },
    "tags": []
   },
   "outputs": [
    {
     "name": "stdout",
     "output_type": "stream",
     "text": [
      "|   iter    |  target   | max_depth | learni... | subsample | colsam... |   gamma   | min_ch... | n_esti... |\n",
      "-------------------------------------------------------------------------------------------------------------\n",
      "| \u001b[39m2        \u001b[39m | \u001b[39m0.8372293\u001b[39m | \u001b[39m5.6217808\u001b[39m | \u001b[39m0.2857071\u001b[39m | \u001b[39m0.8659969\u001b[39m | \u001b[39m0.7993292\u001b[39m | \u001b[39m0.7800932\u001b[39m | \u001b[39m2.4039506\u001b[39m | \u001b[39m123.23344\u001b[39m |\n",
      "| \u001b[39m3        \u001b[39m | \u001b[39m0.8204444\u001b[39m | \u001b[39m9.0632330\u001b[39m | \u001b[39m0.1843233\u001b[39m | \u001b[39m0.8540362\u001b[39m | \u001b[39m0.5102922\u001b[39m | \u001b[39m4.8495492\u001b[39m | \u001b[39m8.4919837\u001b[39m | \u001b[39m184.93564\u001b[39m |\n",
      "| \u001b[39m4        \u001b[39m | \u001b[39m0.8338773\u001b[39m | \u001b[39m4.2727747\u001b[39m | \u001b[39m0.0631873\u001b[39m | \u001b[39m0.6521211\u001b[39m | \u001b[39m0.7623782\u001b[39m | \u001b[39m2.1597250\u001b[39m | \u001b[39m3.6210622\u001b[39m | \u001b[39m344.74115\u001b[39m |\n",
      "| \u001b[39m5        \u001b[39m | \u001b[39m0.8327600\u001b[39m | \u001b[39m3.9764570\u001b[39m | \u001b[39m0.0947219\u001b[39m | \u001b[39m0.6831809\u001b[39m | \u001b[39m0.7280349\u001b[39m | \u001b[39m3.9258798\u001b[39m | \u001b[39m2.7970640\u001b[39m | \u001b[39m305.69377\u001b[39m |\n",
      "| \u001b[39m6        \u001b[39m | \u001b[39m0.8305065\u001b[39m | \u001b[39m7.1469019\u001b[39m | \u001b[39m0.0234706\u001b[39m | \u001b[39m0.8037724\u001b[39m | \u001b[39m0.5852620\u001b[39m | \u001b[39m0.3252579\u001b[39m | \u001b[39m9.5399698\u001b[39m | \u001b[39m486.25281\u001b[39m |\n",
      "| \u001b[35m7        \u001b[39m | \u001b[35m0.8394702\u001b[39m | \u001b[35m5.6586039\u001b[39m | \u001b[35m0.2038963\u001b[39m | \u001b[35m0.8159913\u001b[39m | \u001b[35m0.7865048\u001b[39m | \u001b[35m0.4194151\u001b[39m | \u001b[35m2.4944947\u001b[39m | \u001b[35m122.04870\u001b[39m |\n",
      "| \u001b[39m8        \u001b[39m | \u001b[39m0.8338710\u001b[39m | \u001b[39m6.3464778\u001b[39m | \u001b[39m0.01     \u001b[39m | \u001b[39m0.6194386\u001b[39m | \u001b[39m0.8002839\u001b[39m | \u001b[39m0.1398839\u001b[39m | \u001b[39m3.9729354\u001b[39m | \u001b[39m117.14834\u001b[39m |\n",
      "| \u001b[39m9        \u001b[39m | \u001b[39m0.8282719\u001b[39m | \u001b[39m3.0      \u001b[39m | \u001b[39m0.01     \u001b[39m | \u001b[39m1.0      \u001b[39m | \u001b[39m0.5      \u001b[39m | \u001b[39m0.0      \u001b[39m | \u001b[39m1.0      \u001b[39m | \u001b[39m120.23493\u001b[39m |\n",
      "| \u001b[35m10       \u001b[39m | \u001b[35m0.8417048\u001b[39m | \u001b[35m7.3599055\u001b[39m | \u001b[35m0.2454072\u001b[39m | \u001b[35m0.6505198\u001b[39m | \u001b[35m0.9496945\u001b[39m | \u001b[35m0.4604600\u001b[39m | \u001b[35m3.6762469\u001b[39m | \u001b[35m121.67898\u001b[39m |\n",
      "| \u001b[39m11       \u001b[39m | \u001b[39m0.8372418\u001b[39m | \u001b[39m9.2133427\u001b[39m | \u001b[39m0.01     \u001b[39m | \u001b[39m0.5326370\u001b[39m | \u001b[39m0.7480463\u001b[39m | \u001b[39m0.0      \u001b[39m | \u001b[39m1.1163534\u001b[39m | \u001b[39m121.37746\u001b[39m |\n",
      "| \u001b[39m12       \u001b[39m | \u001b[39m0.8192831\u001b[39m | \u001b[39m6.0699153\u001b[39m | \u001b[39m0.01     \u001b[39m | \u001b[39m0.5355026\u001b[39m | \u001b[39m0.5      \u001b[39m | \u001b[39m0.0      \u001b[39m | \u001b[39m6.8729563\u001b[39m | \u001b[39m122.17562\u001b[39m |\n",
      "| \u001b[35m13       \u001b[39m | \u001b[35m0.8439645\u001b[39m | \u001b[35m7.4647130\u001b[39m | \u001b[35m0.3      \u001b[39m | \u001b[35m0.9483376\u001b[39m | \u001b[35m1.0      \u001b[39m | \u001b[35m1.8506134\u001b[39m | \u001b[35m2.3201579\u001b[39m | \u001b[35m121.23294\u001b[39m |\n",
      "| \u001b[39m14       \u001b[39m | \u001b[39m0.8428410\u001b[39m | \u001b[39m9.2996028\u001b[39m | \u001b[39m0.3      \u001b[39m | \u001b[39m0.5      \u001b[39m | \u001b[39m1.0      \u001b[39m | \u001b[39m2.9384374\u001b[39m | \u001b[39m3.1601323\u001b[39m | \u001b[39m122.41057\u001b[39m |\n",
      "| \u001b[39m15       \u001b[39m | \u001b[39m0.8204318\u001b[39m | \u001b[39m9.4368187\u001b[39m | \u001b[39m0.3      \u001b[39m | \u001b[39m1.0      \u001b[39m | \u001b[39m1.0      \u001b[39m | \u001b[39m3.7702164\u001b[39m | \u001b[39m3.2259802\u001b[39m | \u001b[39m119.41237\u001b[39m |\n",
      "| \u001b[39m16       \u001b[39m | \u001b[39m0.8338647\u001b[39m | \u001b[39m8.2403050\u001b[39m | \u001b[39m0.3      \u001b[39m | \u001b[39m0.5      \u001b[39m | \u001b[39m1.0      \u001b[39m | \u001b[39m1.6001846\u001b[39m | \u001b[39m2.3284567\u001b[39m | \u001b[39m123.10117\u001b[39m |\n",
      "| \u001b[35m17       \u001b[39m | \u001b[35m0.8462117\u001b[39m | \u001b[35m7.2821723\u001b[39m | \u001b[35m0.3      \u001b[39m | \u001b[35m1.0      \u001b[39m | \u001b[35m1.0      \u001b[39m | \u001b[35m0.4059294\u001b[39m | \u001b[35m2.3049757\u001b[39m | \u001b[35m120.62753\u001b[39m |\n",
      "| \u001b[39m18       \u001b[39m | \u001b[39m0.8293766\u001b[39m | \u001b[39m6.5625005\u001b[39m | \u001b[39m0.01     \u001b[39m | \u001b[39m0.5      \u001b[39m | \u001b[39m0.5      \u001b[39m | \u001b[39m1.2625870\u001b[39m | \u001b[39m2.9006039\u001b[39m | \u001b[39m120.18423\u001b[39m |\n",
      "| \u001b[39m19       \u001b[39m | \u001b[39m0.8405938\u001b[39m | \u001b[39m7.4468421\u001b[39m | \u001b[39m0.3      \u001b[39m | \u001b[39m1.0      \u001b[39m | \u001b[39m1.0      \u001b[39m | \u001b[39m0.4155178\u001b[39m | \u001b[39m2.0527998\u001b[39m | \u001b[39m121.69334\u001b[39m |\n",
      "| \u001b[39m20       \u001b[39m | \u001b[39m0.8417362\u001b[39m | \u001b[39m8.3263520\u001b[39m | \u001b[39m0.3      \u001b[39m | \u001b[39m1.0      \u001b[39m | \u001b[39m1.0      \u001b[39m | \u001b[39m0.8251407\u001b[39m | \u001b[39m2.7383847\u001b[39m | \u001b[39m120.80518\u001b[39m |\n",
      "| \u001b[39m21       \u001b[39m | \u001b[39m0.8372544\u001b[39m | \u001b[39m7.6709724\u001b[39m | \u001b[39m0.3      \u001b[39m | \u001b[39m1.0      \u001b[39m | \u001b[39m1.0      \u001b[39m | \u001b[39m0.9883301\u001b[39m | \u001b[39m1.2469289\u001b[39m | \u001b[39m120.41180\u001b[39m |\n",
      "| \u001b[39m22       \u001b[39m | \u001b[39m0.8282656\u001b[39m | \u001b[39m8.0370675\u001b[39m | \u001b[39m0.3      \u001b[39m | \u001b[39m1.0      \u001b[39m | \u001b[39m1.0      \u001b[39m | \u001b[39m2.2097827\u001b[39m | \u001b[39m3.5571033\u001b[39m | \u001b[39m121.81555\u001b[39m |\n",
      "| \u001b[39m23       \u001b[39m | \u001b[39m0.8248885\u001b[39m | \u001b[39m7.4902390\u001b[39m | \u001b[39m0.3      \u001b[39m | \u001b[39m1.0      \u001b[39m | \u001b[39m1.0      \u001b[39m | \u001b[39m0.0      \u001b[39m | \u001b[39m3.0140748\u001b[39m | \u001b[39m120.93766\u001b[39m |\n",
      "| \u001b[39m24       \u001b[39m | \u001b[39m0.8406000\u001b[39m | \u001b[39m4.9600731\u001b[39m | \u001b[39m0.2491439\u001b[39m | \u001b[39m0.8004668\u001b[39m | \u001b[39m0.8766430\u001b[39m | \u001b[39m1.1310134\u001b[39m | \u001b[39m6.6569853\u001b[39m | \u001b[39m159.78570\u001b[39m |\n",
      "| \u001b[39m25       \u001b[39m | \u001b[39m0.8293704\u001b[39m | \u001b[39m6.9461862\u001b[39m | \u001b[39m0.1301441\u001b[39m | \u001b[39m0.8116827\u001b[39m | \u001b[39m0.6855006\u001b[39m | \u001b[39m0.2215921\u001b[39m | \u001b[39m3.4813735\u001b[39m | \u001b[39m414.65442\u001b[39m |\n",
      "| \u001b[39m26       \u001b[39m | \u001b[39m0.8372544\u001b[39m | \u001b[39m4.7695954\u001b[39m | \u001b[39m0.1083898\u001b[39m | \u001b[39m0.6772632\u001b[39m | \u001b[39m0.8367714\u001b[39m | \u001b[39m2.6973534\u001b[39m | \u001b[39m2.1006009\u001b[39m | \u001b[39m379.21390\u001b[39m |\n",
      "| \u001b[39m27       \u001b[39m | \u001b[39m0.8327411\u001b[39m | \u001b[39m4.5727480\u001b[39m | \u001b[39m0.2250108\u001b[39m | \u001b[39m0.7176037\u001b[39m | \u001b[39m0.5112250\u001b[39m | \u001b[39m1.8501682\u001b[39m | \u001b[39m1.3629526\u001b[39m | \u001b[39m412.21195\u001b[39m |\n",
      "| \u001b[39m28       \u001b[39m | \u001b[39m0.8305253\u001b[39m | \u001b[39m3.5170338\u001b[39m | \u001b[39m0.2255690\u001b[39m | \u001b[39m0.7835967\u001b[39m | \u001b[39m0.6056071\u001b[39m | \u001b[39m1.5732908\u001b[39m | \u001b[39m7.4972965\u001b[39m | \u001b[39m145.11047\u001b[39m |\n",
      "| \u001b[39m29       \u001b[39m | \u001b[39m0.8428472\u001b[39m | \u001b[39m4.6954671\u001b[39m | \u001b[39m0.0707521\u001b[39m | \u001b[39m0.5694494\u001b[39m | \u001b[39m0.6896628\u001b[39m | \u001b[39m0.5893614\u001b[39m | \u001b[39m2.8633362\u001b[39m | \u001b[39m203.44228\u001b[39m |\n",
      "| \u001b[39m30       \u001b[39m | \u001b[39m0.8327600\u001b[39m | \u001b[39m5.3128136\u001b[39m | \u001b[39m0.0648007\u001b[39m | \u001b[39m0.9920133\u001b[39m | \u001b[39m0.5394960\u001b[39m | \u001b[39m2.9910801\u001b[39m | \u001b[39m5.4007452\u001b[39m | \u001b[39m224.46113\u001b[39m |\n",
      "| \u001b[39m31       \u001b[39m | \u001b[39m0.8271483\u001b[39m | \u001b[39m6.8419276\u001b[39m | \u001b[39m0.1407393\u001b[39m | \u001b[39m0.8068740\u001b[39m | \u001b[39m0.6419198\u001b[39m | \u001b[39m4.0830260\u001b[39m | \u001b[39m7.5744776\u001b[39m | \u001b[39m498.59335\u001b[39m |\n",
      "=============================================================================================================\n",
      "Best parameters found:  {'max_depth': 7, 'learning_rate': 0.3, 'subsample': 1.0, 'colsample_bytree': 1.0, 'gamma': 0.40592945987059176, 'min_child_weight': 2, 'n_estimators': 120}\n"
     ]
    }
   ],
   "source": [
    "\n",
    "from xgboost import XGBClassifier\n",
    "from sklearn.model_selection import StratifiedKFold, cross_val_score\n",
    "from bayes_opt import BayesianOptimization\n",
    "\n",
    "# Define cross-validation function\n",
    "def xgb_cv(max_depth, learning_rate, subsample, colsample_bytree, gamma, min_child_weight, n_estimators):\n",
    "    params = {\n",
    "        'max_depth': int(max_depth),\n",
    "        'learning_rate': learning_rate,\n",
    "        'subsample': subsample,\n",
    "        'colsample_bytree': colsample_bytree,\n",
    "        'gamma': gamma,\n",
    "        'min_child_weight': int(min_child_weight),\n",
    "        'n_estimators': int(n_estimators),\n",
    "        'use_label_encoder': False,\n",
    "        'eval_metric': 'logloss',\n",
    "        'random_state': 42\n",
    "    }\n",
    "    \n",
    "    clf = XGBClassifier(**params)\n",
    "    kf = StratifiedKFold(n_splits=5, shuffle=True, random_state=42)\n",
    "    score = cross_val_score(clf, X_train, y_train, cv=kf, scoring='accuracy').mean()\n",
    "    return score\n",
    "\n",
    "# Define parameter bounds for Bayesian Optimization\n",
    "param_bounds = {\n",
    "    'max_depth': (3, 10),           # integer\n",
    "    'learning_rate': (0.01, 0.3),   # float\n",
    "    'subsample': (0.5, 1),          # float\n",
    "    'colsample_bytree': (0.5, 1),   # float\n",
    "    'gamma': (0, 5),                # float\n",
    "    'min_child_weight': (1, 10),    # integer\n",
    "    'n_estimators': (100, 500)      # integer\n",
    "}\n",
    "\n",
    "# Initialize optimizer\n",
    "optimizer = BayesianOptimization(\n",
    "    f=xgb_cv,\n",
    "    pbounds=param_bounds,\n",
    "    random_state=42,\n",
    "    verbose=2\n",
    ")\n",
    "\n",
    "# Run optimization: 5 random initial points, 25 iterations\n",
    "optimizer.maximize(init_points=5, n_iter=25)\n",
    "\n",
    "# Retrieve the best parameters\n",
    "best_params = optimizer.max['params']\n",
    "best_params['max_depth'] = int(best_params['max_depth'])\n",
    "best_params['min_child_weight'] = int(best_params['min_child_weight'])\n",
    "best_params['n_estimators'] = int(best_params['n_estimators'])\n",
    "\n",
    "print(\"Best parameters found: \", best_params)\n",
    "\n",
    "# Fit final model with best params\n",
    "final_model = XGBClassifier(**best_params, use_label_encoder=False, eval_metric='logloss', random_state=42)\n",
    "final_model.fit(X_train, y_train)\n",
    "\n",
    "# Predict on test set\n",
    "y_pred = final_model.predict(X_test)\n",
    "\n",
    "# Create submission file\n",
    "submission = pd.DataFrame({\n",
    "    'PassengerId': test_data['PassengerId'],\n",
    "    'Survived': y_pred\n",
    "})\n",
    "submission.to_csv('titanic_submission_xgboost_bayes.csv', index=False)\n"
   ]
  },
  {
   "cell_type": "code",
   "execution_count": null,
   "id": "23c1eb63",
   "metadata": {
    "papermill": {
     "duration": 0.008084,
     "end_time": "2025-08-17T13:04:45.974665",
     "exception": false,
     "start_time": "2025-08-17T13:04:45.966581",
     "status": "completed"
    },
    "tags": []
   },
   "outputs": [],
   "source": []
  },
  {
   "cell_type": "code",
   "execution_count": null,
   "id": "e7a8625f",
   "metadata": {
    "papermill": {
     "duration": 0.007819,
     "end_time": "2025-08-17T13:04:45.990751",
     "exception": false,
     "start_time": "2025-08-17T13:04:45.982932",
     "status": "completed"
    },
    "tags": []
   },
   "outputs": [],
   "source": []
  },
  {
   "cell_type": "code",
   "execution_count": null,
   "id": "3e3d40ac",
   "metadata": {
    "papermill": {
     "duration": 0.008029,
     "end_time": "2025-08-17T13:04:46.007013",
     "exception": false,
     "start_time": "2025-08-17T13:04:45.998984",
     "status": "completed"
    },
    "tags": []
   },
   "outputs": [],
   "source": []
  },
  {
   "cell_type": "code",
   "execution_count": null,
   "id": "f1005347",
   "metadata": {
    "papermill": {
     "duration": 0.007766,
     "end_time": "2025-08-17T13:04:46.022849",
     "exception": false,
     "start_time": "2025-08-17T13:04:46.015083",
     "status": "completed"
    },
    "tags": []
   },
   "outputs": [],
   "source": []
  },
  {
   "cell_type": "code",
   "execution_count": null,
   "id": "624d4064",
   "metadata": {
    "papermill": {
     "duration": 0.007888,
     "end_time": "2025-08-17T13:04:46.038787",
     "exception": false,
     "start_time": "2025-08-17T13:04:46.030899",
     "status": "completed"
    },
    "tags": []
   },
   "outputs": [],
   "source": []
  }
 ],
 "metadata": {
  "kaggle": {
   "accelerator": "none",
   "dataSources": [
    {
     "databundleVersionId": 26502,
     "sourceId": 3136,
     "sourceType": "competition"
    }
   ],
   "dockerImageVersionId": 31089,
   "isGpuEnabled": false,
   "isInternetEnabled": true,
   "language": "python",
   "sourceType": "notebook"
  },
  "kernelspec": {
   "display_name": "Python 3",
   "language": "python",
   "name": "python3"
  },
  "language_info": {
   "codemirror_mode": {
    "name": "ipython",
    "version": 3
   },
   "file_extension": ".py",
   "mimetype": "text/x-python",
   "name": "python",
   "nbconvert_exporter": "python",
   "pygments_lexer": "ipython3",
   "version": "3.11.13"
  },
  "papermill": {
   "default_parameters": {},
   "duration": 56.249501,
   "end_time": "2025-08-17T13:04:46.868478",
   "environment_variables": {},
   "exception": null,
   "input_path": "__notebook__.ipynb",
   "output_path": "__notebook__.ipynb",
   "parameters": {},
   "start_time": "2025-08-17T13:03:50.618977",
   "version": "2.6.0"
  }
 },
 "nbformat": 4,
 "nbformat_minor": 5
}
